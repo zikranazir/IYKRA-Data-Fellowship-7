{
  "nbformat": 4,
  "nbformat_minor": 0,
  "metadata": {
    "colab": {
      "provenance": [],
      "collapsed_sections": [
        "1IxqKSKo072f",
        "4m3tWKi222X6",
        "IKnT92PyKueZ",
        "316woQKJ3M3u",
        "XfQVQYeosss9",
        "EMLDTZC5Hjt0",
        "w1ESiZBcIS8o",
        "dFvvdaV7NuYj",
        "Y2BBnHxkNv6O",
        "RHoQzVtGQm_S",
        "LRMbPml7RvMV"
      ]
    },
    "kernelspec": {
      "name": "python3",
      "display_name": "Python 3"
    },
    "language_info": {
      "name": "python"
    }
  },
  "cells": [
    {
      "cell_type": "markdown",
      "source": [
        "### Install Pyspark"
      ],
      "metadata": {
        "id": "1IxqKSKo072f"
      }
    },
    {
      "cell_type": "code",
      "execution_count": 141,
      "metadata": {
        "colab": {
          "base_uri": "https://localhost:8080/"
        },
        "id": "DkoY9qXR0yQv",
        "outputId": "3738791e-bf82-44ba-8cd9-d361e826757e"
      },
      "outputs": [
        {
          "output_type": "stream",
          "name": "stdout",
          "text": [
            "Looking in indexes: https://pypi.org/simple, https://us-python.pkg.dev/colab-wheels/public/simple/\n",
            "Requirement already satisfied: pyspark in /usr/local/lib/python3.7/dist-packages (3.3.0)\n",
            "Requirement already satisfied: py4j==0.10.9.5 in /usr/local/lib/python3.7/dist-packages (from pyspark) (0.10.9.5)\n"
          ]
        }
      ],
      "source": [
        "!pip install -q findspark\n",
        "\n",
        "!pip install pyspark\n",
        "\n",
        "import findspark\n",
        "\n",
        "findspark.init()"
      ]
    },
    {
      "cell_type": "markdown",
      "source": [
        "### Iniate Spark Session and Import Library"
      ],
      "metadata": {
        "id": "4m3tWKi222X6"
      }
    },
    {
      "cell_type": "code",
      "source": [
        "import pyspark\n",
        "from pyspark.sql import SparkSession\n",
        "from pyspark.sql import types\n",
        "\n",
        "spark = SparkSession.builder \\\n",
        "    .master('local') \\\n",
        "    .appName('assignment_6') \\\n",
        "    .config('spark.executor.memory', '5gb') \\\n",
        "    .config(\"spark.cores.max\", \"6\") \\\n",
        "    .getOrCreate()\n",
        "\n",
        "spark.version"
      ],
      "metadata": {
        "id": "17j-KInT1KfF",
        "colab": {
          "base_uri": "https://localhost:8080/",
          "height": 35
        },
        "outputId": "9c9a402a-ae81-444b-a40a-bd36434d20a2"
      },
      "execution_count": 142,
      "outputs": [
        {
          "output_type": "execute_result",
          "data": {
            "text/plain": [
              "'3.3.0'"
            ],
            "application/vnd.google.colaboratory.intrinsic+json": {
              "type": "string"
            }
          },
          "metadata": {},
          "execution_count": 142
        }
      ]
    },
    {
      "cell_type": "markdown",
      "source": [
        "### Connect To Bigquery\n"
      ],
      "metadata": {
        "id": "IKnT92PyKueZ"
      }
    },
    {
      "cell_type": "code",
      "source": [
        "from google.colab import auth\n",
        "auth.authenticate_user()\n",
        "print('Authenticated')\n"
      ],
      "metadata": {
        "colab": {
          "base_uri": "https://localhost:8080/"
        },
        "id": "CVbABbHeKxsl",
        "outputId": "8bf94d6c-b942-4bd3-fd07-88bb8f22e5c0"
      },
      "execution_count": 188,
      "outputs": [
        {
          "output_type": "stream",
          "name": "stdout",
          "text": [
            "Authenticated\n"
          ]
        }
      ]
    },
    {
      "cell_type": "code",
      "source": [
        "project_id = \"data-fellowship-de\"\n",
        "from google.cloud import bigquery\n",
        "import humanize\n",
        "client = bigquery.Client(project=project_id)"
      ],
      "metadata": {
        "id": "PZ7KmFvOREtx"
      },
      "execution_count": 191,
      "outputs": []
    },
    {
      "cell_type": "code",
      "source": [
        "# Use the Cloud Storage bucket for temporary BigQuery export data used\n",
        "# by the connector.\n",
        "bucket = \"iykra-fellowship\" # change with your bucket name\n",
        "spark.conf.set('temporaryGcsBucket', bucket)"
      ],
      "metadata": {
        "id": "n2H4WXomRh82"
      },
      "execution_count": 193,
      "outputs": []
    },
    {
      "cell_type": "markdown",
      "source": [
        "### Download Dataset"
      ],
      "metadata": {
        "id": "316woQKJ3M3u"
      }
    },
    {
      "cell_type": "code",
      "source": [
        "!wget https://d37ci6vzurychx.cloudfront.net/trip-data/fhv_tripdata_2021-02.parquet"
      ],
      "metadata": {
        "colab": {
          "base_uri": "https://localhost:8080/"
        },
        "id": "YZpWheBO2-pL",
        "outputId": "7b215053-cc3e-490d-9599-4da978d49e16"
      },
      "execution_count": 143,
      "outputs": [
        {
          "output_type": "stream",
          "name": "stdout",
          "text": [
            "--2022-10-03 11:54:00--  https://d37ci6vzurychx.cloudfront.net/trip-data/fhv_tripdata_2021-02.parquet\n",
            "Resolving d37ci6vzurychx.cloudfront.net (d37ci6vzurychx.cloudfront.net)... 13.226.23.72, 13.226.23.119, 13.226.23.168, ...\n",
            "Connecting to d37ci6vzurychx.cloudfront.net (d37ci6vzurychx.cloudfront.net)|13.226.23.72|:443... connected.\n",
            "HTTP request sent, awaiting response... 200 OK\n",
            "Length: 10645466 (10M) [binary/octet-stream]\n",
            "Saving to: ‘fhv_tripdata_2021-02.parquet.1’\n",
            "\n",
            "\r          fhv_tripd   0%[                    ]       0  --.-KB/s               \rfhv_tripdata_2021-0 100%[===================>]  10.15M  65.2MB/s    in 0.2s    \n",
            "\n",
            "2022-10-03 11:54:00 (65.2 MB/s) - ‘fhv_tripdata_2021-02.parquet.1’ saved [10645466/10645466]\n",
            "\n"
          ]
        }
      ]
    },
    {
      "cell_type": "markdown",
      "source": [
        "Create Table Schema"
      ],
      "metadata": {
        "id": "WgJJSBn034j-"
      }
    },
    {
      "cell_type": "code",
      "source": [
        "from pyspark.sql import types"
      ],
      "metadata": {
        "id": "vJaw5vmA3Qc8"
      },
      "execution_count": 144,
      "outputs": []
    },
    {
      "cell_type": "code",
      "source": [
        "schema = types.StructType(\n",
        "    [\n",
        "        types.StructField('hvfhs_license_num', types.StringType(), True),\n",
        "        types.StructField('dispatching_base_num', types.StringType(), True),\n",
        "        types.StructField('pickup_datetime', types.TimestampType(), True),\n",
        "        types.StructField('dropoff_datetime', types.TimestampType(), True),\n",
        "        types.StructField('PULocationID', types.DoubleType(), True),\n",
        "        types.StructField('DOLocationID', types.DoubleType(), True),\n",
        "        types.StructField('SR_Flag', types.IntegerType(), True)\n",
        "    ]\n",
        ")"
      ],
      "metadata": {
        "id": "7I70DC963zkm"
      },
      "execution_count": 145,
      "outputs": []
    },
    {
      "cell_type": "code",
      "source": [
        "df = spark.read \\\n",
        "    .option(\"header\", \"true\") \\\n",
        "    .schema(schema) \\\n",
        "    .parquet('/content/fhv_tripdata_2021-02.parquet')"
      ],
      "metadata": {
        "id": "Jxo6a-rE329m"
      },
      "execution_count": 146,
      "outputs": []
    },
    {
      "cell_type": "code",
      "source": [
        "df.show()"
      ],
      "metadata": {
        "colab": {
          "base_uri": "https://localhost:8080/"
        },
        "id": "ckM7SMcU623J",
        "outputId": "8a2c67d0-d8c0-4213-b463-f302e5b01d36"
      },
      "execution_count": 147,
      "outputs": [
        {
          "output_type": "stream",
          "name": "stdout",
          "text": [
            "+-----------------+--------------------+-------------------+-------------------+------------+------------+-------+\n",
            "|hvfhs_license_num|dispatching_base_num|    pickup_datetime|   dropoff_datetime|PULocationID|DOLocationID|SR_Flag|\n",
            "+-----------------+--------------------+-------------------+-------------------+------------+------------+-------+\n",
            "|             null|              B00013|2021-02-01 00:01:00|2021-02-01 01:33:00|        null|        null|   null|\n",
            "|             null|     B00021         |2021-02-01 00:55:40|2021-02-01 01:06:20|       173.0|        82.0|   null|\n",
            "|             null|     B00021         |2021-02-01 00:14:03|2021-02-01 00:28:37|       173.0|        56.0|   null|\n",
            "|             null|     B00021         |2021-02-01 00:27:48|2021-02-01 00:35:45|        82.0|       129.0|   null|\n",
            "|             null|              B00037|2021-02-01 00:12:50|2021-02-01 00:26:38|        null|       225.0|   null|\n",
            "|             null|              B00037|2021-02-01 00:00:37|2021-02-01 00:09:35|        null|        61.0|   null|\n",
            "|             null|              B00112|2021-02-01 00:30:25|2021-02-01 00:57:23|        null|        26.0|   null|\n",
            "|             null|              B00149|2021-02-01 00:43:16|2021-02-01 01:03:16|        null|        72.0|   null|\n",
            "|             null|              B00221|2021-02-01 00:20:45|2021-02-01 00:21:15|        null|       244.0|   null|\n",
            "|             null|              B00225|2021-02-01 00:23:27|2021-02-01 00:55:46|        null|       169.0|   null|\n",
            "|             null|              B00225|2021-02-01 00:10:38|2021-02-01 00:50:15|        null|       161.0|   null|\n",
            "|             null|              B00254|2021-02-01 00:05:46|2021-02-01 00:40:41|        13.0|       182.0|   null|\n",
            "|             null|              B00254|2021-02-01 00:14:25|2021-02-01 00:24:56|       152.0|       244.0|   null|\n",
            "|             null|              B00256|2021-02-01 00:30:43|2021-02-01 01:32:39|        null|        null|   null|\n",
            "|             null|              B00256|2021-02-01 00:39:11|2021-02-01 01:18:44|        null|        null|   null|\n",
            "|             null|              B00256|2021-02-01 00:33:24|2021-02-01 01:23:44|        null|        null|   null|\n",
            "|             null|              B00256|2021-02-01 00:05:19|2021-02-01 00:24:40|        null|        null|   null|\n",
            "|             null|              B00271|2021-02-01 00:04:07|2021-02-01 01:03:03|        null|       265.0|   null|\n",
            "|             null|              B00271|2021-02-01 00:07:13|2021-02-01 00:08:49|        null|       237.0|   null|\n",
            "|             null|              B00310|2021-02-01 00:11:21|2021-02-01 00:15:44|        null|       248.0|   null|\n",
            "+-----------------+--------------------+-------------------+-------------------+------------+------------+-------+\n",
            "only showing top 20 rows\n",
            "\n"
          ]
        }
      ]
    },
    {
      "cell_type": "markdown",
      "source": [
        "Repartition it to 24 partitions."
      ],
      "metadata": {
        "id": "FGlIuLi09Y8S"
      }
    },
    {
      "cell_type": "code",
      "source": [
        "df= df.repartition(24)"
      ],
      "metadata": {
        "id": "HY8IWQWA9Opx"
      },
      "execution_count": 148,
      "outputs": []
    },
    {
      "cell_type": "markdown",
      "source": [
        "### How many taxi in trips where in the 15 February?"
      ],
      "metadata": {
        "id": "AzpTLGR1-Drk"
      }
    },
    {
      "cell_type": "markdown",
      "source": [
        "#### Method 1"
      ],
      "metadata": {
        "id": "XfQVQYeosss9"
      }
    },
    {
      "cell_type": "code",
      "source": [
        "from pyspark.sql import functions as F\n",
        "\n",
        "trips_15_feb = df \\\n",
        "                    .withColumn('pickup_date', F.to_date(df.pickup_datetime)) \\\n",
        "                    .filter(\"pickup_date = '2021-02-15'\")      \n",
        "\n",
        "trips_15_feb.show()         \n",
        "print(f\"total taxi trips in 15 February 2022: {trips_15_feb.count()} trips\") "
      ],
      "metadata": {
        "colab": {
          "base_uri": "https://localhost:8080/"
        },
        "id": "tA-nM24s9tgA",
        "outputId": "bfb03eb3-272a-4f01-8ee0-f86c36c2a034"
      },
      "execution_count": 149,
      "outputs": [
        {
          "output_type": "stream",
          "name": "stdout",
          "text": [
            "+-----------------+--------------------+-------------------+-------------------+------------+------------+-------+-----------+\n",
            "|hvfhs_license_num|dispatching_base_num|    pickup_datetime|   dropoff_datetime|PULocationID|DOLocationID|SR_Flag|pickup_date|\n",
            "+-----------------+--------------------+-------------------+-------------------+------------+------------+-------+-----------+\n",
            "|             null|              B02292|2021-02-15 10:00:48|2021-02-15 10:13:45|        null|        35.0|   null| 2021-02-15|\n",
            "|             null|              B00856|2021-02-15 14:39:46|2021-02-15 14:49:40|        null|        35.0|   null| 2021-02-15|\n",
            "|             null|              B00160|2021-02-15 23:08:00|2021-02-15 23:24:00|        null|        null|   null| 2021-02-15|\n",
            "|             null|              B00445|2021-02-15 12:05:26|2021-02-15 12:18:49|       173.0|        95.0|   null| 2021-02-15|\n",
            "|             null|              B01338|2021-02-15 02:56:38|2021-02-15 03:10:51|        null|        42.0|   null| 2021-02-15|\n",
            "|             null|              B01016|2021-02-15 06:49:20|2021-02-15 06:51:33|        null|        76.0|   null| 2021-02-15|\n",
            "|             null|              B02814|2021-02-15 19:38:07|2021-02-15 19:58:50|        null|        25.0|   null| 2021-02-15|\n",
            "|             null|              B02849|2021-02-15 20:35:52|2021-02-15 20:43:04|        null|        54.0|   null| 2021-02-15|\n",
            "|             null|              B01742|2021-02-15 04:00:00|2021-02-15 10:15:00|        null|        null|   null| 2021-02-15|\n",
            "|             null|              B00271|2021-02-15 11:07:32|2021-02-15 11:08:27|        null|       161.0|   null| 2021-02-15|\n",
            "|             null|              B00652|2021-02-15 12:36:55|2021-02-15 12:44:54|        89.0|        89.0|   null| 2021-02-15|\n",
            "|             null|              B02735|2021-02-15 15:59:48|2021-02-15 16:11:35|        null|        81.0|   null| 2021-02-15|\n",
            "|             null|              B00112|2021-02-15 10:18:27|2021-02-15 10:22:55|        null|        14.0|   null| 2021-02-15|\n",
            "|             null|              B00727|2021-02-15 20:38:42|2021-02-15 20:50:46|        null|        null|   null| 2021-02-15|\n",
            "|             null|              B00647|2021-02-15 06:13:21|2021-02-15 06:33:56|        null|       138.0|   null| 2021-02-15|\n",
            "|             null|     B01995         |2021-02-15 10:25:30|2021-02-15 10:46:37|       157.0|       157.0|   null| 2021-02-15|\n",
            "|             null|              B02133|2021-02-15 09:30:01|2021-02-15 09:40:26|        null|        null|   null| 2021-02-15|\n",
            "|             null|              B02849|2021-02-15 10:41:24|2021-02-15 10:54:16|        null|        17.0|   null| 2021-02-15|\n",
            "|             null|              B00112|2021-02-15 10:29:20|2021-02-15 12:04:04|        null|       140.0|   null| 2021-02-15|\n",
            "|             null|              B02794|2021-02-15 20:34:46|2021-02-15 20:50:08|        null|        76.0|   null| 2021-02-15|\n",
            "+-----------------+--------------------+-------------------+-------------------+------------+------------+-------+-----------+\n",
            "only showing top 20 rows\n",
            "\n",
            "total taxi trips in 15 February 2022: 34814 trips\n"
          ]
        }
      ]
    },
    {
      "cell_type": "markdown",
      "source": [
        "#### Method 2"
      ],
      "metadata": {
        "id": "96r8H2ptGl3T"
      }
    },
    {
      "cell_type": "code",
      "source": [
        "df.registerTempTable('fhvhv_2_2021')\n",
        "\n",
        "trips_15_feb = spark.sql(\"\"\"\n",
        "SELECT\n",
        "    *\n",
        "FROM \n",
        "    fhvhv_2_2021\n",
        "WHERE\n",
        "    to_date(pickup_datetime) = '2021-02-15';\n",
        "\"\"\").show()\n",
        "\n"
      ],
      "metadata": {
        "colab": {
          "base_uri": "https://localhost:8080/"
        },
        "id": "zF-a0i2D_LPW",
        "outputId": "1230f9b7-0280-4137-863c-f52c9ac8c146"
      },
      "execution_count": 150,
      "outputs": [
        {
          "output_type": "stream",
          "name": "stderr",
          "text": [
            "/usr/local/lib/python3.7/dist-packages/pyspark/sql/dataframe.py:229: FutureWarning: Deprecated in 2.0, use createOrReplaceTempView instead.\n",
            "  warnings.warn(\"Deprecated in 2.0, use createOrReplaceTempView instead.\", FutureWarning)\n"
          ]
        },
        {
          "output_type": "stream",
          "name": "stdout",
          "text": [
            "+-----------------+--------------------+-------------------+-------------------+------------+------------+-------+\n",
            "|hvfhs_license_num|dispatching_base_num|    pickup_datetime|   dropoff_datetime|PULocationID|DOLocationID|SR_Flag|\n",
            "+-----------------+--------------------+-------------------+-------------------+------------+------------+-------+\n",
            "|             null|              B02292|2021-02-15 10:00:48|2021-02-15 10:13:45|        null|        35.0|   null|\n",
            "|             null|              B00856|2021-02-15 14:39:46|2021-02-15 14:49:40|        null|        35.0|   null|\n",
            "|             null|              B00160|2021-02-15 23:08:00|2021-02-15 23:24:00|        null|        null|   null|\n",
            "|             null|              B00445|2021-02-15 12:05:26|2021-02-15 12:18:49|       173.0|        95.0|   null|\n",
            "|             null|              B01338|2021-02-15 02:56:38|2021-02-15 03:10:51|        null|        42.0|   null|\n",
            "|             null|              B01016|2021-02-15 06:49:20|2021-02-15 06:51:33|        null|        76.0|   null|\n",
            "|             null|              B02814|2021-02-15 19:38:07|2021-02-15 19:58:50|        null|        25.0|   null|\n",
            "|             null|              B02849|2021-02-15 20:35:52|2021-02-15 20:43:04|        null|        54.0|   null|\n",
            "|             null|              B01742|2021-02-15 04:00:00|2021-02-15 10:15:00|        null|        null|   null|\n",
            "|             null|              B00271|2021-02-15 11:07:32|2021-02-15 11:08:27|        null|       161.0|   null|\n",
            "|             null|              B00652|2021-02-15 12:36:55|2021-02-15 12:44:54|        89.0|        89.0|   null|\n",
            "|             null|              B02735|2021-02-15 15:59:48|2021-02-15 16:11:35|        null|        81.0|   null|\n",
            "|             null|              B00112|2021-02-15 10:18:27|2021-02-15 10:22:55|        null|        14.0|   null|\n",
            "|             null|              B00727|2021-02-15 20:38:42|2021-02-15 20:50:46|        null|        null|   null|\n",
            "|             null|              B00647|2021-02-15 06:13:21|2021-02-15 06:33:56|        null|       138.0|   null|\n",
            "|             null|     B01995         |2021-02-15 10:25:30|2021-02-15 10:46:37|       157.0|       157.0|   null|\n",
            "|             null|              B02133|2021-02-15 09:30:01|2021-02-15 09:40:26|        null|        null|   null|\n",
            "|             null|              B02849|2021-02-15 10:41:24|2021-02-15 10:54:16|        null|        17.0|   null|\n",
            "|             null|              B00112|2021-02-15 10:29:20|2021-02-15 12:04:04|        null|       140.0|   null|\n",
            "|             null|              B02794|2021-02-15 20:34:46|2021-02-15 20:50:08|        null|        76.0|   null|\n",
            "+-----------------+--------------------+-------------------+-------------------+------------+------------+-------+\n",
            "only showing top 20 rows\n",
            "\n"
          ]
        }
      ]
    },
    {
      "cell_type": "code",
      "source": [
        "spark.sql(\"\"\"\n",
        "SELECT\n",
        "    COUNT(1) as trips_15_feb\n",
        "FROM \n",
        "    fhvhv_2_2021\n",
        "WHERE\n",
        "    to_date(pickup_datetime) = '2021-02-15';\n",
        "\"\"\").show()"
      ],
      "metadata": {
        "colab": {
          "base_uri": "https://localhost:8080/"
        },
        "id": "wlaDZFHvNdzI",
        "outputId": "14995506-ed73-47e0-fbc1-0a2b7ebcebb9"
      },
      "execution_count": 196,
      "outputs": [
        {
          "output_type": "stream",
          "name": "stdout",
          "text": [
            "+------------+\n",
            "|trips_15_feb|\n",
            "+------------+\n",
            "|       34814|\n",
            "+------------+\n",
            "\n"
          ]
        }
      ]
    },
    {
      "cell_type": "markdown",
      "source": [
        "Send to Bigquery"
      ],
      "metadata": {
        "id": "-J9KcFauTydE"
      }
    },
    {
      "cell_type": "code",
      "source": [
        "trips_15_feb.write.format('com.google.cloud.spark.bigquery') \\\n",
        "  .option('table', 'nyc_taxi_record.trips_15_feb') \\\n",
        "  .save()"
      ],
      "metadata": {
        "id": "-ae-n-vJTx3Y"
      },
      "execution_count": null,
      "outputs": []
    },
    {
      "cell_type": "markdown",
      "source": [
        "### Find Longest Time Each Day?"
      ],
      "metadata": {
        "id": "EMLDTZC5Hjt0"
      }
    },
    {
      "cell_type": "markdown",
      "source": [
        "Calculate the duration for each trip"
      ],
      "metadata": {
        "id": "4kZWWmkmH0Up"
      }
    },
    {
      "cell_type": "markdown",
      "source": [
        "#### Method 1"
      ],
      "metadata": {
        "id": "w1ESiZBcIS8o"
      }
    },
    {
      "cell_type": "code",
      "source": [
        "from pyspark.sql.functions import col, asc, desc\n",
        "\n",
        "df \\\n",
        "    .withColumn('duration_hours', df.dropoff_datetime-df.pickup_datetime) \\\n",
        "    .orderBy(col('duration_hours').desc()) \\\n",
        "    .show()"
      ],
      "metadata": {
        "colab": {
          "base_uri": "https://localhost:8080/"
        },
        "id": "wRRNQ644HjV1",
        "outputId": "828fa2d7-cc3e-4231-ed50-5f3776081561"
      },
      "execution_count": 152,
      "outputs": [
        {
          "output_type": "stream",
          "name": "stdout",
          "text": [
            "+-----------------+--------------------+-------------------+-------------------+------------+------------+-------+--------------------+\n",
            "|hvfhs_license_num|dispatching_base_num|    pickup_datetime|   dropoff_datetime|PULocationID|DOLocationID|SR_Flag|      duration_hours|\n",
            "+-----------------+--------------------+-------------------+-------------------+------------+------------+-------+--------------------+\n",
            "|             null|              B03297|2021-02-04 18:45:00|2021-04-22 19:24:00|        null|        null|   null|INTERVAL '77 00:3...|\n",
            "|             null|              B00477|2021-02-01 08:00:00|2021-03-05 11:30:00|        null|        null|   null|INTERVAL '32 03:3...|\n",
            "|             null|              B00477|2021-02-01 12:00:00|2021-03-05 11:29:00|        null|        null|   null|INTERVAL '31 23:2...|\n",
            "|             null|              B02925|2021-02-25 15:00:00|2021-03-25 17:49:00|       143.0|       143.0|   null|INTERVAL '28 02:4...|\n",
            "|             null|              B02925|2021-02-23 13:30:00|2021-03-23 14:02:00|       262.0|       163.0|   null|INTERVAL '28 00:3...|\n",
            "|             null|              B02653|2021-02-03 17:25:00|2021-03-03 12:39:53|        null|       185.0|   null|INTERVAL '27 19:1...|\n",
            "|             null|              B01239|2021-02-03 20:59:00|2021-02-23 21:31:15|        null|       167.0|   null|INTERVAL '20 00:3...|\n",
            "|             null|              B02735|2021-02-03 20:59:00|2021-02-23 21:31:15|        null|       167.0|   null|INTERVAL '20 00:3...|\n",
            "|             null|              B03016|2021-02-03 20:59:00|2021-02-23 21:31:15|        null|       167.0|   null|INTERVAL '20 00:3...|\n",
            "|             null|              B00477|2021-02-27 12:00:00|2021-03-11 08:44:00|        null|        null|   null|INTERVAL '11 20:4...|\n",
            "|             null|              B00477|2021-02-28 10:00:00|2021-03-11 08:43:00|        null|        null|   null|INTERVAL '10 22:4...|\n",
            "|             null|              B00477|2021-02-28 12:00:00|2021-03-11 08:42:00|        null|        null|   null|INTERVAL '10 20:4...|\n",
            "|             null|              B03275|2021-02-01 09:20:08|2021-02-11 17:43:59|       242.0|       250.0|   null|INTERVAL '10 08:2...|\n",
            "|             null|              B03275|2021-02-15 14:20:52|2021-02-25 18:51:01|       159.0|       208.0|   null|INTERVAL '10 04:3...|\n",
            "|             null|              B01288|2021-02-22 14:07:14|2021-03-03 14:48:46|        25.0|       131.0|   null|INTERVAL '9 00:41...|\n",
            "|             null|              B03292|2021-02-08 05:10:48|2021-02-14 18:15:43|       169.0|        24.0|   null|INTERVAL '6 13:04...|\n",
            "|             null|              B03275|2021-02-19 12:45:10|2021-02-25 18:57:19|        58.0|       254.0|   null|INTERVAL '6 06:12...|\n",
            "|             null|              B03275|2021-02-13 13:16:55|2021-02-19 09:39:36|        61.0|       244.0|   null|INTERVAL '5 20:22...|\n",
            "|             null|              B03275|2021-02-13 13:16:55|2021-02-19 09:39:36|        61.0|       244.0|   null|INTERVAL '5 20:22...|\n",
            "|             null|              B02709|2021-02-16 04:41:56|2021-02-19 12:58:02|        null|        null|   null|INTERVAL '3 08:16...|\n",
            "+-----------------+--------------------+-------------------+-------------------+------------+------------+-------+--------------------+\n",
            "only showing top 20 rows\n",
            "\n"
          ]
        }
      ]
    },
    {
      "cell_type": "markdown",
      "source": [
        "#### Method 2"
      ],
      "metadata": {
        "id": "0Hb9B5UrIVF3"
      }
    },
    {
      "cell_type": "code",
      "source": [
        "trips_duration = spark.sql(\"\"\"\n",
        "                              SELECT\n",
        "                                  pickup_datetime, dropoff_datetime,\n",
        "                                  (unix_timestamp(dropoff_datetime) - unix_timestamp(pickup_datetime)) AS duration_seconds\n",
        "                              FROM\n",
        "                                  fhvhv_2_2021\n",
        "                              SORT BY\n",
        "                                  duration_seconds DESC\n",
        "                              \"\"\")\n",
        "\n",
        "trips_duration.show()"
      ],
      "metadata": {
        "colab": {
          "base_uri": "https://localhost:8080/"
        },
        "id": "ZRKoxG4J_OFh",
        "outputId": "cdabb901-23e4-4ba7-cdf5-531e51266323"
      },
      "execution_count": 153,
      "outputs": [
        {
          "output_type": "stream",
          "name": "stdout",
          "text": [
            "+-------------------+-------------------+----------------+\n",
            "|    pickup_datetime|   dropoff_datetime|duration_seconds|\n",
            "+-------------------+-------------------+----------------+\n",
            "|2021-02-13 13:16:55|2021-02-19 09:39:36|          505361|\n",
            "|2021-02-05 05:35:51|2021-02-07 10:40:32|          191081|\n",
            "|2021-02-12 16:19:26|2021-02-14 13:29:11|          162585|\n",
            "|2021-02-18 06:43:14|2021-02-19 14:58:00|          116086|\n",
            "|2021-02-25 13:45:02|2021-02-26 14:15:35|           88233|\n",
            "|2021-02-17 00:08:18|2021-02-18 00:33:04|           87886|\n",
            "|2021-02-09 00:07:57|2021-02-10 00:27:56|           87599|\n",
            "|2021-02-11 11:26:38|2021-02-12 08:50:26|           77028|\n",
            "|2021-02-02 18:01:40|2021-02-03 13:28:06|           69986|\n",
            "|2021-02-27 11:31:00|2021-02-28 06:41:53|           69053|\n",
            "|2021-02-20 18:22:18|2021-02-21 13:30:31|           68893|\n",
            "|2021-02-07 20:37:50|2021-02-08 15:19:10|           67280|\n",
            "|2021-02-13 17:48:14|2021-02-14 10:39:50|           60696|\n",
            "|2021-02-11 14:07:05|2021-02-12 05:37:05|           55800|\n",
            "|2021-02-07 03:30:00|2021-02-07 18:30:00|           54000|\n",
            "|2021-02-18 06:00:00|2021-02-18 18:14:00|           44040|\n",
            "|2021-02-15 20:22:24|2021-02-16 08:11:54|           42570|\n",
            "|2021-02-21 07:28:00|2021-02-21 19:05:00|           41820|\n",
            "|2021-02-14 08:04:00|2021-02-14 19:33:00|           41340|\n",
            "|2021-02-22 07:52:00|2021-02-22 19:17:00|           41100|\n",
            "+-------------------+-------------------+----------------+\n",
            "only showing top 20 rows\n",
            "\n"
          ]
        }
      ]
    },
    {
      "cell_type": "markdown",
      "source": [
        "Send To Bigquery"
      ],
      "metadata": {
        "id": "nw0iqLBjUJEu"
      }
    },
    {
      "cell_type": "code",
      "source": [
        "trips_duration.write.format('com.google.cloud.spark.bigquery') \\\n",
        "  .option('table', 'nyc_taxi_record.trips_duration') \\\n",
        "  .save()"
      ],
      "metadata": {
        "id": "wvgjB0qnUCUE"
      },
      "execution_count": null,
      "outputs": []
    },
    {
      "cell_type": "markdown",
      "source": [
        "### Most frequent dispatching_base_num"
      ],
      "metadata": {
        "id": "dFvvdaV7NuYj"
      }
    },
    {
      "cell_type": "markdown",
      "source": [
        "Find the most frequently occurring dispatching_base_num in this dataset."
      ],
      "metadata": {
        "id": "S4wLpk_rN2Hm"
      }
    },
    {
      "cell_type": "markdown",
      "source": [
        "#### Method 1"
      ],
      "metadata": {
        "id": "Y2BBnHxkNv6O"
      }
    },
    {
      "cell_type": "code",
      "source": [
        "df \\\n",
        "    .groupBy('dispatching_base_num') \\\n",
        "    .count() \\\n",
        "    .orderBy('count', ascending=False) \\\n",
        "    .limit(5) \\\n",
        "    .show()"
      ],
      "metadata": {
        "colab": {
          "base_uri": "https://localhost:8080/"
        },
        "id": "t7eH8x2aJ6ed",
        "outputId": "40e3470a-338c-4d78-ab18-f2b7d244b32f"
      },
      "execution_count": 154,
      "outputs": [
        {
          "output_type": "stream",
          "name": "stdout",
          "text": [
            "+--------------------+-----+\n",
            "|dispatching_base_num|count|\n",
            "+--------------------+-----+\n",
            "|              B00856|35077|\n",
            "|              B01312|33089|\n",
            "|              B01145|31114|\n",
            "|              B02794|30397|\n",
            "|              B03016|29794|\n",
            "+--------------------+-----+\n",
            "\n"
          ]
        }
      ]
    },
    {
      "cell_type": "markdown",
      "source": [
        "#### Method 2"
      ],
      "metadata": {
        "id": "RHoQzVtGQm_S"
      }
    },
    {
      "cell_type": "code",
      "source": [
        "most_dispatching_base_num = spark.sql(\"\"\"\n",
        "    SELECT \n",
        "          dispatching_base_num,\n",
        "          COUNT(1) as count_dispatching_base_num\n",
        "    FROM \n",
        "          fhvhv_2_2021\n",
        "    GROUP BY\n",
        "          1\n",
        "    ORDER BY\n",
        "          2 DESC\n",
        "    LIMIT \n",
        "          5\n",
        "\"\"\")\n",
        "\n",
        "most_dispatching_base_num.show()"
      ],
      "metadata": {
        "colab": {
          "base_uri": "https://localhost:8080/"
        },
        "id": "5-cdC2pRO7cA",
        "outputId": "b4b9debb-cdee-4a11-a810-21ab8359f65c"
      },
      "execution_count": 155,
      "outputs": [
        {
          "output_type": "stream",
          "name": "stdout",
          "text": [
            "+--------------------+--------------------------+\n",
            "|dispatching_base_num|count_dispatching_base_num|\n",
            "+--------------------+--------------------------+\n",
            "|              B00856|                     35077|\n",
            "|              B01312|                     33089|\n",
            "|              B01145|                     31114|\n",
            "|              B02794|                     30397|\n",
            "|              B03016|                     29794|\n",
            "+--------------------+--------------------------+\n",
            "\n"
          ]
        }
      ]
    },
    {
      "cell_type": "markdown",
      "source": [
        "Send to BigQuery"
      ],
      "metadata": {
        "id": "1sOulc-HURWE"
      }
    },
    {
      "cell_type": "code",
      "source": [
        "most_dispatching_base_num.write.format('com.google.cloud.spark.bigquery') \\\n",
        "  .option('table', 'nyc_taxi_record.most_dispatching_base_num') \\\n",
        "  .save()"
      ],
      "metadata": {
        "id": "sDkctdDoUQ8F"
      },
      "execution_count": null,
      "outputs": []
    },
    {
      "cell_type": "markdown",
      "source": [
        "### 5 Most common location pairs"
      ],
      "metadata": {
        "id": "LRMbPml7RvMV"
      }
    },
    {
      "cell_type": "markdown",
      "source": [
        "Find the most common pickup-dropoff pair."
      ],
      "metadata": {
        "id": "PGl_9cRpTH1y"
      }
    },
    {
      "cell_type": "code",
      "source": [
        "# Import Zone Lookup dataset\n",
        "\n",
        "!wget https://d37ci6vzurychx.cloudfront.net/misc/taxi+_zone_lookup.csv"
      ],
      "metadata": {
        "colab": {
          "base_uri": "https://localhost:8080/"
        },
        "id": "ZK1PTXKxTSLM",
        "outputId": "b219883b-3b64-4664-feee-823166df29c3"
      },
      "execution_count": 156,
      "outputs": [
        {
          "output_type": "stream",
          "name": "stdout",
          "text": [
            "--2022-10-03 11:55:50--  https://d37ci6vzurychx.cloudfront.net/misc/taxi+_zone_lookup.csv\n",
            "Resolving d37ci6vzurychx.cloudfront.net (d37ci6vzurychx.cloudfront.net)... 13.226.23.168, 13.226.23.47, 13.226.23.72, ...\n",
            "Connecting to d37ci6vzurychx.cloudfront.net (d37ci6vzurychx.cloudfront.net)|13.226.23.168|:443... connected.\n",
            "HTTP request sent, awaiting response... 200 OK\n",
            "Length: 12322 (12K) [text/csv]\n",
            "Saving to: ‘taxi+_zone_lookup.csv.3’\n",
            "\n",
            "\rtaxi+_zone_lookup.c   0%[                    ]       0  --.-KB/s               \rtaxi+_zone_lookup.c 100%[===================>]  12.03K  --.-KB/s    in 0s      \n",
            "\n",
            "2022-10-03 11:55:50 (30.0 MB/s) - ‘taxi+_zone_lookup.csv.3’ saved [12322/12322]\n",
            "\n"
          ]
        }
      ]
    },
    {
      "cell_type": "code",
      "source": [
        "# Create schema dataset\n",
        "zones_schema = types.StructType([\n",
        "    types.StructField('LocationID', types.IntegerType(), True),\n",
        "    types.StructField('Borough', types.StringType(), True),\n",
        "    types.StructField('Zone', types.StringType(), True),\n",
        "    types.StructField('service_zone', types.StringType(), True)\n",
        "])"
      ],
      "metadata": {
        "id": "1Su4nRVMZQ_v"
      },
      "execution_count": 157,
      "outputs": []
    },
    {
      "cell_type": "code",
      "source": [
        "df_zones = spark.read.option('header', 'true').schema(zones_schema).csv('/content/taxi+_zone_lookup.csv')"
      ],
      "metadata": {
        "id": "1p_dKgyDVYmw"
      },
      "execution_count": null,
      "outputs": []
    },
    {
      "cell_type": "code",
      "source": [
        "df.printSchema()"
      ],
      "metadata": {
        "colab": {
          "base_uri": "https://localhost:8080/"
        },
        "id": "-t7YqhM24WJm",
        "outputId": "53477f48-e767-40bb-82b6-268f3426dc8e"
      },
      "execution_count": 170,
      "outputs": [
        {
          "output_type": "stream",
          "name": "stdout",
          "text": [
            "root\n",
            " |-- hvfhs_license_num: string (nullable = true)\n",
            " |-- dispatching_base_num: string (nullable = true)\n",
            " |-- pickup_datetime: timestamp (nullable = true)\n",
            " |-- dropoff_datetime: timestamp (nullable = true)\n",
            " |-- PULocationID: double (nullable = true)\n",
            " |-- DOLocationID: double (nullable = true)\n",
            " |-- SR_Flag: integer (nullable = true)\n",
            "\n"
          ]
        }
      ]
    },
    {
      "cell_type": "code",
      "source": [
        "df_zones.printSchema()"
      ],
      "metadata": {
        "colab": {
          "base_uri": "https://localhost:8080/"
        },
        "id": "fAarkPcTZuoJ",
        "outputId": "7c21750c-9634-4435-f708-c6d6c4ea232d"
      },
      "execution_count": 165,
      "outputs": [
        {
          "output_type": "stream",
          "name": "stdout",
          "text": [
            "root\n",
            " |-- LocationID: integer (nullable = true)\n",
            " |-- Borough: string (nullable = true)\n",
            " |-- Zone: string (nullable = true)\n",
            " |-- service_zone: string (nullable = true)\n",
            "\n"
          ]
        }
      ]
    },
    {
      "cell_type": "code",
      "source": [
        "# create schema for zones pick up table\n",
        "zpu = df_zones \\\n",
        "    .withColumnRenamed('Zone', 'PUzone') \\\n",
        "    .withColumnRenamed('LocationID', 'zPULocationID') \\\n",
        "    .withColumnRenamed('Borough', 'PUBorough') \\\n",
        "    .drop('service_zone')\n",
        "\n",
        "# create schema for zones drop down table\n",
        "zdo = df_zones \\\n",
        "    .withColumnRenamed('Zone', 'DOzone') \\\n",
        "    .withColumnRenamed('LocationID', 'zDOLocationID') \\\n",
        "    .withColumnRenamed('Borough', 'DOBorough') \\\n",
        "    .drop('service_zone')"
      ],
      "metadata": {
        "id": "3v9O932CyNRw"
      },
      "execution_count": 171,
      "outputs": []
    },
    {
      "cell_type": "code",
      "source": [
        "# Join the table\n",
        "df_join_temp = df.join(zpu, df.PULocationID == zpu.zPULocationID)\n",
        "df_join = df_join_temp.join(zdo, df_join_temp.DOLocationID == zdo.zDOLocationID)"
      ],
      "metadata": {
        "id": "DbQdgUGM45HF"
      },
      "execution_count": 181,
      "outputs": []
    },
    {
      "cell_type": "code",
      "source": [
        "df_join.drop('PULocationID', 'DOLocationID', 'zPULocationID', 'zDOLocationID').write.parquet('zones')"
      ],
      "metadata": {
        "id": "ozizH9Kg5BqB"
      },
      "execution_count": 173,
      "outputs": []
    },
    {
      "cell_type": "code",
      "source": [
        "df_join = spark.read.parquet('zones')\n",
        "df_join.printSchema()"
      ],
      "metadata": {
        "colab": {
          "base_uri": "https://localhost:8080/"
        },
        "id": "wyeHP1Gb52Sh",
        "outputId": "5704b444-eea9-4794-a0cb-f1105a7d1b97"
      },
      "execution_count": 176,
      "outputs": [
        {
          "output_type": "stream",
          "name": "stdout",
          "text": [
            "root\n",
            " |-- hvfhs_license_num: string (nullable = true)\n",
            " |-- dispatching_base_num: string (nullable = true)\n",
            " |-- pickup_datetime: timestamp (nullable = true)\n",
            " |-- dropoff_datetime: timestamp (nullable = true)\n",
            " |-- SR_Flag: integer (nullable = true)\n",
            " |-- PUBorough: string (nullable = true)\n",
            " |-- PUzone: string (nullable = true)\n",
            " |-- DOBorough: string (nullable = true)\n",
            " |-- DOzone: string (nullable = true)\n",
            "\n"
          ]
        }
      ]
    },
    {
      "cell_type": "code",
      "source": [
        "df_join.registerTempTable('zones_table_lookup')"
      ],
      "metadata": {
        "colab": {
          "base_uri": "https://localhost:8080/"
        },
        "id": "YPdjYz_Va7NP",
        "outputId": "adbf280f-029b-40a4-b9d5-adbf7b039f2b"
      },
      "execution_count": 177,
      "outputs": [
        {
          "output_type": "stream",
          "name": "stderr",
          "text": [
            "/usr/local/lib/python3.7/dist-packages/pyspark/sql/dataframe.py:229: FutureWarning: Deprecated in 2.0, use createOrReplaceTempView instead.\n",
            "  warnings.warn(\"Deprecated in 2.0, use createOrReplaceTempView instead.\", FutureWarning)\n"
          ]
        }
      ]
    },
    {
      "cell_type": "code",
      "source": [
        "pair_location = spark.sql(\"\"\"\n",
        "SELECT\n",
        "    CONCAT(coalesce(PUzone, 'Unknown'), '/', coalesce(DOzone, 'Unknown')) AS zone_pair,\n",
        "    COUNT(1) as total_count\n",
        "FROM\n",
        "    zones_table_lookup\n",
        "GROUP BY\n",
        "    1\n",
        "ORDER BY\n",
        "    2 DESC\n",
        "LIMIT\n",
        "    5\n",
        ";\n",
        "\"\"\")\n",
        "\n",
        "pair_location.show()"
      ],
      "metadata": {
        "id": "JoMmol_GavCP",
        "colab": {
          "base_uri": "https://localhost:8080/"
        },
        "outputId": "10e86784-1e35-47ef-d3dd-fb73c944c7c5"
      },
      "execution_count": 187,
      "outputs": [
        {
          "output_type": "stream",
          "name": "stdout",
          "text": [
            "+--------------------+-----------+\n",
            "|           zone_pair|total_count|\n",
            "+--------------------+-----------+\n",
            "|Saint George/New ...|       2374|\n",
            "|Stapleton/Saint G...|       2112|\n",
            "|Jackson Heights/J...|       1902|\n",
            "|     Astoria/Astoria|       1829|\n",
            "|Old Astoria/Old A...|       1736|\n",
            "+--------------------+-----------+\n",
            "\n"
          ]
        }
      ]
    },
    {
      "cell_type": "markdown",
      "source": [
        "Send to Bigquery"
      ],
      "metadata": {
        "id": "hly6n73jTLUz"
      }
    },
    {
      "cell_type": "code",
      "source": [
        "pair_location.write.format('com.google.cloud.spark.bigquery') \\\n",
        "  .option('table', 'nyc_taxi_record.pair_location') \\\n",
        "  .save()"
      ],
      "metadata": {
        "id": "JNX7gJlgQFoP"
      },
      "execution_count": null,
      "outputs": []
    }
  ]
}